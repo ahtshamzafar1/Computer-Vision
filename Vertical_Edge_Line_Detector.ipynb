{
  "cells": [
    {
      "cell_type": "code",
      "source": [
        "from google.colab import drive\n",
        "drive.mount('/content/drive')\n"
      ],
      "metadata": {
        "colab": {
          "base_uri": "https://localhost:8080/"
        },
        "id": "b3qjjDToevpP",
        "outputId": "442ae2eb-20d8-44c1-da37-0aab852e3dde"
      },
      "execution_count": 45,
      "outputs": [
        {
          "output_type": "stream",
          "name": "stdout",
          "text": [
            "Drive already mounted at /content/drive; to attempt to forcibly remount, call drive.mount(\"/content/drive\", force_remount=True).\n"
          ]
        }
      ]
    },
    {
      "cell_type": "code",
      "execution_count": 46,
      "metadata": {
        "collapsed": true,
        "id": "T8b8paPKed7F"
      },
      "outputs": [],
      "source": [
        "import cv2\n",
        "import numpy as np\n",
        "from matplotlib import pyplot as plt"
      ]
    },
    {
      "cell_type": "code",
      "source": [
        "input = cv2.imread('/content/drive/MyDrive/vertical edge detection.png', cv2.IMREAD_GRAYSCALE)\n",
        "plt.imshow(input, cmap='gray')\n",
        "testImageHeight  = input.shape[0]\n",
        "testImageWidth = input.shape[1]\n",
        "imageNChannels = 1\n",
        "input.shape"
      ],
      "metadata": {
        "colab": {
          "base_uri": "https://localhost:8080/",
          "height": 247
        },
        "id": "Ld6XDuxxhuJv",
        "outputId": "8aef62c3-5005-4a3f-936e-098e723b982e"
      },
      "execution_count": 47,
      "outputs": [
        {
          "output_type": "execute_result",
          "data": {
            "text/plain": [
              "(727, 1377)"
            ]
          },
          "metadata": {},
          "execution_count": 47
        },
        {
          "output_type": "display_data",
          "data": {
            "text/plain": [
              "<Figure size 432x288 with 1 Axes>"
            ],
            "image/png": "[encoded data removed]"
          },
          "metadata": {
            "needs_background": "light"
          }
        }
      ]
    },
    {
      "cell_type": "code",
      "source": [
        "# Sobel filter for vertical edge detection\n",
        "Kx = np.array([[-1, 0, 1], [-2, 0, 2], [-1, 0, 1]])"
      ],
      "metadata": {
        "id": "69HCkwfSh5JG"
      },
      "execution_count": 48,
      "outputs": []
    },
    {
      "cell_type": "code",
      "source": [
        "convolvedShape = (testImageHeight - 2, testImageWidth - 2) # No Padding, the output array will be 2 pixels shorter on each dimension\n",
        "input1x = np.zeros(convolvedShape) # make input of zeros for convolved shape\n",
        "\n",
        "for i in range(1, testImageHeight-1): # apply filter on whole image height wise\n",
        "    for j in range(1, testImageWidth-1): # apply filter on whole image width wise\n",
        "        window = input[i-1:i+2, j-1:j+2] # 3x3 window\n",
        "        input1x[i-1, j-1] = np.maximum(np.sum(np.multiply(window, Kx)), 0) # update input1x zeros matrix"
      ],
      "metadata": {
        "id": "rQ_zEf4Wh7z7"
      },
      "execution_count": 57,
      "outputs": []
    },
    {
      "cell_type": "code",
      "source": [
        "plt.figure(figsize=(20,7))\n",
        "plt.imshow(input1x, cmap='gray');\n",
        "plt.title('Vertical')"
      ],
      "metadata": {
        "colab": {
          "base_uri": "https://localhost:8080/",
          "height": 462
        },
        "id": "Yn_MXooLh-qf",
        "outputId": "1a0bb09a-3cf1-43e2-9f88-ba799df7b9a4"
      },
      "execution_count": 55,
      "outputs": [
        {
          "output_type": "execute_result",
          "data": {
            "text/plain": [
              "Text(0.5, 1.0, 'Vertical')"
            ]
          },
          "metadata": {},
          "execution_count": 55
        },
        {
          "output_type": "display_data",
          "data": {
            "text/plain": [
              "<Figure size 1440x504 with 1 Axes>"
            ],
            "image/png": "[encoded data removed]"
          },
          "metadata": {
            "needs_background": "light"
          }
        }
      ]
    },
    {
      "cell_type": "code",
      "source": [
        "np.sum(input1x[0:input.shape[0],0:input.shape[1]]) #sum the pixels to get a quantitative number. "
      ],
      "metadata": {
        "colab": {
          "base_uri": "https://localhost:8080/"
        },
        "id": "kxrSmqkGumn7",
        "outputId": "a989e221-1330-4246-e3fc-5f9097a19360"
      },
      "execution_count": 70,
      "outputs": [
        {
          "output_type": "execute_result",
          "data": {
            "text/plain": [
              "4202635.0"
            ]
          },
          "metadata": {},
          "execution_count": 70
        }
      ]
    },
    {
      "cell_type": "code",
      "source": [
        "# checking plane image now\n",
        "input = cv2.imread('/content/drive/MyDrive/no edge.png', cv2.IMREAD_GRAYSCALE)\n",
        "plt.imshow(input, cmap='gray')\n",
        "testImageHeight  = input.shape[0]\n",
        "testImageWidth = input.shape[1]\n",
        "imageNChannels = 1\n",
        "input.shape"
      ],
      "metadata": {
        "colab": {
          "base_uri": "https://localhost:8080/",
          "height": 287
        },
        "id": "0qjjdYIrvsg1",
        "outputId": "b08220e2-926b-4aa0-a76c-6a887036a00d"
      },
      "execution_count": 71,
      "outputs": [
        {
          "output_type": "execute_result",
          "data": {
            "text/plain": [
              "(494, 505)"
            ]
          },
          "metadata": {},
          "execution_count": 71
        },
        {
          "output_type": "display_data",
          "data": {
            "text/plain": [
              "<Figure size 432x288 with 1 Axes>"
            ],
            "image/png": "[encoded data removed]"
          },
          "metadata": {
            "needs_background": "light"
          }
        }
      ]
    },
    {
      "cell_type": "code",
      "source": [
        "convolvedShape = (testImageHeight - 2, testImageWidth - 2) # No Padding, the output array will be 2 pixels shorter on each dimension\n",
        "input1x = np.zeros(convolvedShape) # make input of zeros for convolved shape\n",
        "\n",
        "for i in range(1, testImageHeight-1): # apply filter on whole image height wise\n",
        "    for j in range(1, testImageWidth-1): # apply filter on whole image width wise\n",
        "        window = input[i-1:i+2, j-1:j+2] # 3x3 window\n",
        "        input1x[i-1, j-1] = np.maximum(np.sum(np.multiply(window, Kx)), 0) # update input1x zeros matrix"
      ],
      "metadata": {
        "id": "BzfZ45zPwBAx"
      },
      "execution_count": 72,
      "outputs": []
    },
    {
      "cell_type": "code",
      "source": [
        "plt.figure(figsize=(20,7))\n",
        "plt.imshow(input1x, cmap='gray');\n",
        "plt.title('Vertical')"
      ],
      "metadata": {
        "colab": {
          "base_uri": "https://localhost:8080/",
          "height": 462
        },
        "id": "3ENrJF9-wLPd",
        "outputId": "1f4ee081-8608-42d8-9f27-ac4309046c9f"
      },
      "execution_count": 73,
      "outputs": [
        {
          "output_type": "execute_result",
          "data": {
            "text/plain": [
              "Text(0.5, 1.0, 'Vertical')"
            ]
          },
          "metadata": {},
          "execution_count": 73
        },
        {
          "output_type": "display_data",
          "data": {
            "text/plain": [
              "<Figure size 1440x504 with 1 Axes>"
            ],
            "image/png": "[encoded data removed]"
          },
          "metadata": {
            "needs_background": "light"
          }
        }
      ]
    },
    {
      "cell_type": "code",
      "source": [
        "np.sum(input1x[0:input.shape[0],0:input.shape[1]]) #sum the pixels to get a quantitative number. "
      ],
      "metadata": {
        "colab": {
          "base_uri": "https://localhost:8080/"
        },
        "id": "BgGIHYhGwO4A",
        "outputId": "f57f5da1-d810-4504-fca7-e4d82805ccad"
      },
      "execution_count": 74,
      "outputs": [
        {
          "output_type": "execute_result",
          "data": {
            "text/plain": [
              "0.0"
            ]
          },
          "metadata": {},
          "execution_count": 74
        }
      ]
    }
  ],
  "metadata": {
    "kernelspec": {
      "display_name": "Python 3",
      "language": "python",
      "name": "python3"
    },
    "language_info": {
      "codemirror_mode": {
        "name": "ipython",
        "version": 3
      },
      "file_extension": ".py",
      "mimetype": "text/x-python",
      "name": "python",
      "nbconvert_exporter": "python",
      "pygments_lexer": "ipython3",
      "version": "3.6.8"
    },
    "colab": {
      "provenance": []
    }
  },
  "nbformat": 4,
  "nbformat_minor": 0
}